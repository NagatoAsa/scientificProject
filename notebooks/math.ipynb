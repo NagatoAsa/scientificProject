{
 "cells": [
  {
   "cell_type": "markdown",
   "source": [
    "# Math库\n",
    "## 精度控制\n",
    "    1.floor函数：向下取整（参数传入要精度控制的对象）\n",
    "    2.ceil函数：向上取整（传参同上）\n",
    "    3.round函数：四舍五入（传入两个参数，第一个是要精度控制的对象，第二个是精确的小数点位数）"
   ],
   "metadata": {
    "collapsed": false
   },
   "id": "df4be8f6c35517b5"
  },
  {
   "cell_type": "code",
   "execution_count": 3,
   "outputs": [
    {
     "name": "stdout",
     "output_type": "stream",
     "text": [
      "3\n",
      "4\n",
      "3.1416\n"
     ]
    }
   ],
   "source": [
    "import math\n",
    "a = 3.1415926535\n",
    "print(math.floor(a))\n",
    "print(math.ceil(a))\n",
    "print(round(a, 4))"
   ],
   "metadata": {
    "collapsed": false,
    "ExecuteTime": {
     "end_time": "2023-10-26T14:49:00.288823800Z",
     "start_time": "2023-10-26T14:49:00.284831700Z"
    }
   },
   "id": "31331c3b3ea29519"
  }
 ],
 "metadata": {
  "kernelspec": {
   "display_name": "Python 3",
   "language": "python",
   "name": "python3"
  },
  "language_info": {
   "codemirror_mode": {
    "name": "ipython",
    "version": 2
   },
   "file_extension": ".py",
   "mimetype": "text/x-python",
   "name": "python",
   "nbconvert_exporter": "python",
   "pygments_lexer": "ipython2",
   "version": "2.7.6"
  }
 },
 "nbformat": 4,
 "nbformat_minor": 5
}
